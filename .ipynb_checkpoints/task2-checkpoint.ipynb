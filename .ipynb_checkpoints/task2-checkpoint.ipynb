{
 "cells": [
  {
   "cell_type": "markdown",
   "metadata": {},
   "source": [
    "# Task2. Coding\n",
    "\n",
    "Our team of data scientists developed this univariate regression model that given an input x,\n",
    "returns y. They now need to expose the model so that it can be used in the platform. Can\n",
    "you build a prototype with the necessary interfaces to expose the model? The requirements\n",
    "are the following:\n",
    "\n",
    "- The service should return the model's prediction given an input x. This can be a single request or a batch of requests and they should be treated accordingly;\n",
    "\n",
    "- The service should keep a record of the requests/predictions done (along with metadata you may find appropriate);\n",
    "\n",
    "You can find the model in the artifacts folder shared with you (`./artifacts/model.joblib`) and\n",
    "respective packages to build it (`./artifacts/requirements.txt`).\n",
    "\n",
    "You're welcome to use any framework or tool you wish.\n"
   ]
  },
  {
   "cell_type": "markdown",
   "metadata": {},
   "source": [
    "**Note:**\n",
    "\n",
    "In the requirement.txt, I have replaced \n",
    "\n",
    "`sklearn==0.23.2` to `scikit-learn==0.23.2` \n",
    "\n",
    "due to the error:\n",
    "\n",
    "    ERROR: Could not find a version that satisfies the requirement sklearn==0.23.2\n",
    "    ERROR: No matching distribution found for sklearn==0.23.2\n"
   ]
  },
  {
   "cell_type": "code",
   "execution_count": 1,
   "metadata": {},
   "outputs": [],
   "source": [
    "import joblib\n",
    "import pandas as pd\n",
    "import numpy as np\n",
    "import seaborn as sns\n",
    "from flask import Flask, jsonify, request, make_response\n",
    "import sklearn\n",
    "import json\n",
    "import requests"
   ]
  },
  {
   "cell_type": "code",
   "execution_count": 2,
   "metadata": {},
   "outputs": [],
   "source": [
    "# generating a test.csv file for later test\n",
    "\n",
    "input_data = {'x': [0, 1, 2, 3, 4, 5, 10]}\n",
    "data = pd.DataFrame(input_data, columns = ['x'])\n",
    "data.to_csv(\"uploads/test.csv\", index=False)"
   ]
  },
  {
   "cell_type": "markdown",
   "metadata": {},
   "source": [
    "### 1. Load the model\n",
    "\n",
    "we can see this is a LinearRegression (a + bx = y)\n"
   ]
  },
  {
   "cell_type": "code",
   "execution_count": 3,
   "metadata": {},
   "outputs": [
    {
     "data": {
      "text/plain": [
       "LinearRegression()"
      ]
     },
     "execution_count": 3,
     "metadata": {},
     "output_type": "execute_result"
    }
   ],
   "source": [
    "joblib_file = \"../artifacts/model.joblib\"  \n",
    "joblib_model = joblib.load(joblib_file)\n",
    "joblib_model"
   ]
  },
  {
   "cell_type": "code",
   "execution_count": 4,
   "metadata": {},
   "outputs": [
    {
     "data": {
      "text/plain": [
       "array([17.0737873 , 17.07258825, 17.07138921, 17.07019016, 17.06899112,\n",
       "       17.06779207, 17.06179684])"
      ]
     },
     "execution_count": 4,
     "metadata": {},
     "output_type": "execute_result"
    }
   ],
   "source": [
    "predictions = joblib_model.predict(data[['x']])\n",
    "predictions"
   ]
  },
  {
   "cell_type": "markdown",
   "metadata": {},
   "source": [
    "### 2. Calculate slope & intercept\n",
    "\n",
    "We can generate few data points, and see the prediction. In fact, it would be sufficient to calculate \"a\" and \"b\" with 2 data points. \n",
    "\n",
    "    a = 17.0737873 \n",
    "    b = 17.07258825 - 17.0737873 = -0.00119905 (aprox.)"
   ]
  },
  {
   "cell_type": "code",
   "execution_count": 5,
   "metadata": {},
   "outputs": [
    {
     "data": {
      "text/plain": [
       "array([17.0737873 , 17.07258825, 17.07138921])"
      ]
     },
     "execution_count": 5,
     "metadata": {},
     "output_type": "execute_result"
    }
   ],
   "source": [
    "X_train=np.array([[0],[1], [2]])\n",
    "joblib_model.predict(X_train)"
   ]
  },
  {
   "cell_type": "code",
   "execution_count": 6,
   "metadata": {},
   "outputs": [
    {
     "name": "stdout",
     "output_type": "stream",
     "text": [
      "a =  17.073787300326433\n",
      "b =  -0.0011990458840429596\n"
     ]
    }
   ],
   "source": [
    "a  = joblib_model.predict([[0]])[0]\n",
    "b  = joblib_model.predict([[1]])[0] - a\n",
    "\n",
    "print(\"a = \", a)\n",
    "print(\"b = \", b)"
   ]
  },
  {
   "cell_type": "markdown",
   "metadata": {},
   "source": [
    "Let's generate some random points and plot the scatterplot"
   ]
  },
  {
   "cell_type": "code",
   "execution_count": 7,
   "metadata": {},
   "outputs": [
    {
     "data": {
      "text/plain": [
       "<AxesSubplot:>"
      ]
     },
     "execution_count": 7,
     "metadata": {},
     "output_type": "execute_result"
    },
    {
     "data": {
      "image/png": "[encoded data removed]",
      "text/plain": [
       "<Figure size 432x288 with 1 Axes>"
      ]
     },
     "metadata": {
      "needs_background": "light"
     },
     "output_type": "display_data"
    }
   ],
   "source": [
    "randnums= np.random.randint(-101,101,100)\n",
    "pred = joblib_model.predict(randnums.reshape(-1, 1))\n",
    "sns.scatterplot(x=randnums,y=pred)"
   ]
  },
  {
   "cell_type": "markdown",
   "metadata": {},
   "source": [
    "### 3. Building Flask API to serve the model\n",
    "\n",
    "Refereces:\n",
    "\n",
    "https://towardsdatascience.com/data-science-in-production-building-flask-apis-to-serve-ml-models-with-best-practices-997faca692b9\n",
    "\n",
    "https://towardsdatascience.com/building-prediction-apis-in-python-part-1-series-introduction-basic-example-fe89e12ffbd3\n",
    "\n",
    "\n",
    "\n",
    "https://medium.com/analytics-vidhya/dockerize-your-python-flask-application-and-deploy-it-onto-heroku-650b7a605cc9\n",
    "\n",
    "\n",
    "### 4. Testing our API on local\n",
    "\n",
    "    step1: Run app.py\n",
    "    step2: run the following cell\n",
    "    \n",
    "Then you will obtain the predictions for your input data.\n",
    "\n",
    "Test '/prediction' endpoint"
   ]
  },
  {
   "cell_type": "code",
   "execution_count": 8,
   "metadata": {},
   "outputs": [
    {
     "name": "stdout",
     "output_type": "stream",
     "text": [
      "{'data': [{'x': 0}, {'x': 1}, {'x': 2}, {'x': 3}, {'x': 4}, {'x': 5}, {'x': 10}]}\n",
      "{\"data\": [{\"x\": 0}, {\"x\": 1}, {\"x\": 2}, {\"x\": 3}, {\"x\": 4}, {\"x\": 5}, {\"x\": 10}]}\n",
      "{'y': [17.073787300326433, 17.07258825444239, 17.07138920855835, 17.070190162674308, 17.068991116790265, 17.067792070906226, 17.061796841486018]}\n"
     ]
    }
   ],
   "source": [
    "\n",
    "# reading test data and converting it into dictionary\n",
    "data=pd.read_csv('./uploads/test.csv')\n",
    "data=data.to_dict('records')\n",
    "\n",
    "# packaging the data dictionary into a new dictionary\n",
    "data_json={'data':data}\n",
    "print(data_json)\n",
    "\n",
    "\n",
    "# info for the api request\n",
    "url = 'http://0.0.0.0:5000/prediction'\n",
    "headers = {\n",
    "    'content-type': \"application/json\",\n",
    "    'cache-control': \"no-cache\",\n",
    "}\n",
    "param = json.dumps(data_json)\n",
    "print(param)\n",
    "\n",
    "# making the api request\n",
    "response = requests.get(url, headers=headers, data=param)\n",
    "\n",
    "# getting the json data out\n",
    "output_data=response.json()\n",
    "print(output_data)"
   ]
  },
  {
   "cell_type": "markdown",
   "metadata": {},
   "source": [
    "Test '/predict' endpoint"
   ]
  },
  {
   "cell_type": "code",
   "execution_count": 9,
   "metadata": {},
   "outputs": [
    {
     "name": "stdout",
     "output_type": "stream",
     "text": [
      "expected prediction: {'y': [17.073787300326433]}\n",
      "prediction: {'y': [17.073787300326433]}\n"
     ]
    }
   ],
   "source": [
    "expected_response = {'y': [17.073787300326433]}\n",
    "\n",
    "# making the api request\n",
    "response = requests.get('http://0.0.0.0:5000/predict?x=0')\n",
    "\n",
    "# getting the json data out\n",
    "print(\"expected prediction:\", expected_response)\n",
    "print(\"prediction:\", response.json())\n",
    "\n",
    "# Check that we got \"200 OK\" back.\n",
    "assert response.status_code == 200\n",
    "\n",
    "# response value match the expected value for x=0\n",
    "assert abs(response.json()['y'][0] - expected_response['y'][0])<0.00001"
   ]
  },
  {
   "cell_type": "markdown",
   "metadata": {},
   "source": [
    "### Test the final version\n",
    "\n",
    "https://realxdeal.herokuapp.com/\n",
    "    "
   ]
  },
  {
   "cell_type": "code",
   "execution_count": 10,
   "metadata": {},
   "outputs": [
    {
     "name": "stdout",
     "output_type": "stream",
     "text": [
      "prediction: {'y': [17.073787300326433]}\n"
     ]
    }
   ],
   "source": [
    "response = requests.get('https://realxdeal.herokuapp.com/predict?x=0')\n",
    "print(\"prediction:\", response.json())"
   ]
  },
  {
   "cell_type": "code",
   "execution_count": null,
   "metadata": {},
   "outputs": [],
   "source": []
  }
 ],
 "metadata": {
  "kernelspec": {
   "display_name": "Python 3",
   "language": "python",
   "name": "python3"
  },
  "language_info": {
   "codemirror_mode": {
    "name": "ipython",
    "version": 3
   },
   "file_extension": ".py",
   "mimetype": "text/x-python",
   "name": "python",
   "nbconvert_exporter": "python",
   "pygments_lexer": "ipython3",
   "version": "3.8.5"
  }
 },
 "nbformat": 4,
 "nbformat_minor": 4
}
